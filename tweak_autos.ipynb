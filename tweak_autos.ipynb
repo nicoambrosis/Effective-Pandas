{
 "cells": [
  {
   "cell_type": "code",
   "execution_count": null,
   "metadata": {},
   "outputs": [],
   "source": [
    "import pandas as pd\n",
    "\n",
    "def tweak_autos(autos):\n",
    "    \n",
    "    cols =['city08', 'comb08', 'highway08', 'cylinders', 'displ', 'drive', 'eng_dscr', 'fuelCost08', 'make', 'model',\n",
    "       'trany', 'range', 'createdOn', 'year']\n",
    " \n",
    "    return(autos\n",
    "     [cols]\n",
    "     .assign(cylinders = autos.cylinders.fillna(0).astype('int8'),\n",
    "             displ = autos.displ.fillna(0).astype('float16'),\n",
    "             drive = autos.drive.fillna('Other').astype('category'),      # completamos los NaN con 'Other'\n",
    "             automatic = autos.trany.str.contains('Auto'),                # True si es Auto False si no\n",
    "             speeds = autos.trany.str.extract(r'(\\d)+').fillna('20').astype('int8'), # le damos un valor cualquiera a los NaN\n",
    "             createdOn = pd.to_datetime(autos.createdOn.replace({' EDT': '-04:00', ' EST' : '-05:00'}, regex = True)),\n",
    "             ffs = autos.eng_dscr.str.contains('FFS')\n",
    "            )\n",
    "     .astype({'highway08':'int8', 'city08':'int16', 'comb08':'int16',\n",
    "              'fuelCost08':'int16', 'range':'int16', 'year':'int16', 'make':'category'})\n",
    "     .drop(columns = ['trany', 'eng_dscr'])                                # Eliminamos esta columna \n",
    "    )"
   ]
  }
 ],
 "metadata": {
  "kernelspec": {
   "display_name": "Python 3",
   "language": "python",
   "name": "python3"
  },
  "language_info": {
   "codemirror_mode": {
    "name": "ipython",
    "version": 3
   },
   "file_extension": ".py",
   "mimetype": "text/x-python",
   "name": "python",
   "nbconvert_exporter": "python",
   "pygments_lexer": "ipython3",
   "version": "3.8.6"
  }
 },
 "nbformat": 4,
 "nbformat_minor": 4
}
